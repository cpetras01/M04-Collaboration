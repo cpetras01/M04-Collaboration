{
 "cells": [
  {
   "cell_type": "code",
   "execution_count": null,
   "id": "1fd9d493",
   "metadata": {},
   "outputs": [],
   "source": [
    "# Coleman Petras\n",
    "# SDEV 220\n",
    "# M04 Programming Assignment - Modules and Databases\n",
    "# Complete the following sections in your Jupyter Notebook: 11.1, 11.2, 16.8"
   ]
  },
  {
   "cell_type": "code",
   "execution_count": 4,
   "id": "df30391d",
   "metadata": {},
   "outputs": [
    {
     "name": "stdout",
     "output_type": "stream",
     "text": [
      "Open 9-5 daily\n"
     ]
    }
   ],
   "source": [
    "# 11.1 Create a file called zoo.py. In it, define a function called\n",
    "# hours() that prints the string 'Open 9-5 daily'. Then, use the \n",
    "# interactive interpreter to import the zoo module and call its\n",
    "# hours() function.\n",
    "\n",
    "import zoo\n",
    "hours()"
   ]
  },
  {
   "cell_type": "code",
   "execution_count": 3,
   "id": "cb731de3",
   "metadata": {},
   "outputs": [
    {
     "name": "stdout",
     "output_type": "stream",
     "text": [
      "Open 9-5 daily\n"
     ]
    }
   ],
   "source": [
    "# 11.2 In the interactive interpreter, import the zoo module\n",
    "# as menagerie and call its hours() function\n",
    "\n",
    "import zoo as menagerie\n",
    "menagerie.hours()"
   ]
  },
  {
   "cell_type": "code",
   "execution_count": null,
   "id": "9b016c94",
   "metadata": {},
   "outputs": [],
   "source": [
    "# 16.8 Use the sqlalchemy module to connect to the sqlite3\n",
    "# database books.db that you just made in exercise 16.4. As in \n",
    "# 16.6, select and print the title column from the book table\n",
    "# in alphabetical order."
   ]
  },
  {
   "cell_type": "markdown",
   "id": "ea1078c4",
   "metadata": {},
   "source": [
    "OF NOTE: TO COMPLETE ASSIGNMENT 16.8, OTHER QUESTIONS NEED TO BE COMPLETED IN ORDER FOR THIS TO WORK CORRECTLY, THOSE QUESTIONS ARE BEING ANSWERED WITH A SCRIPT CREATED IN VSCODE WHICH WILL BE INCLUDED IN THE GITHUB REPOSITORY THAT IS SUBMITTED FOR THIS ASSIGNMENT."
   ]
  },
  {
   "cell_type": "code",
   "execution_count": 1,
   "id": "9e55f84b",
   "metadata": {},
   "outputs": [
    {
     "name": "stdout",
     "output_type": "stream",
     "text": [
      "Perdido Street Station\n",
      "Small Gods\n",
      "The Spellman Files\n",
      "Thud!\n"
     ]
    }
   ],
   "source": [
    "import SupportingCode\n",
    "import sqlite3\n",
    "import os\n",
    "\n",
    "directory = 'C:/Users/colem/Desktop/Coleman Programs/M04-Collaboration/'\n",
    "db_file = os.path.join(directory, 'books.db')\n",
    "\n",
    "try: \n",
    "    with sqlite3.connect(db_file) as connection:\n",
    "        cursor  = connection.cursor()\n",
    "\n",
    "    select_title_query = '''\n",
    "        SELECT title\n",
    "        FROM books\n",
    "        ORDER BY title ASC;\n",
    "    '''\n",
    "\n",
    "    cursor.execute(select_title_query)\n",
    "    rows = cursor.fetchall()\n",
    "\n",
    "    for r in rows:\n",
    "        print(r[0])\n",
    "\n",
    "except sqlite3.Error as e:\n",
    "    print(f\"SQLite error: {e}\")\n",
    "\n",
    "finally:\n",
    "    if 'cursor' in locals():\n",
    "        cursor.close()"
   ]
  },
  {
   "cell_type": "code",
   "execution_count": 2,
   "id": "35739bc5",
   "metadata": {},
   "outputs": [
    {
     "name": "stdout",
     "output_type": "stream",
     "text": [
      "Perdido Street Station\n",
      "Small Gods\n",
      "The Spellman Files\n",
      "Thud!\n"
     ]
    }
   ],
   "source": [
    "import sqlalchemy as sa\n",
    "\n",
    "# Specify the path to the SQLite database\n",
    "db_path = 'C:/Users/colem/Desktop/Coleman Programs/M04-Collaboration/books.db'\n",
    "engine = sa.create_engine(f'sqlite:///{db_path}')\n",
    "\n",
    "# Establish a connection\n",
    "conn = engine.connect()\n",
    "\n",
    "try:\n",
    "    # Define the SQL query to select titles from the books table\n",
    "    select_stmt = sa.text('SELECT title FROM books ORDER BY title ASC;')\n",
    "\n",
    "    # Execute the query\n",
    "    result = conn.execute(select_stmt)\n",
    "\n",
    "    # Fetch all rows from the result object\n",
    "    rows = result.fetchall()\n",
    "\n",
    "    # Print each title\n",
    "    for row in rows:\n",
    "        print(row[0])  # Accessing the first element of the tuple to print the title\n",
    "\n",
    "finally:\n",
    "    # Close the connection\n",
    "    conn.close()"
   ]
  },
  {
   "cell_type": "code",
   "execution_count": null,
   "id": "e58a8ae5",
   "metadata": {},
   "outputs": [],
   "source": []
  }
 ],
 "metadata": {
  "kernelspec": {
   "display_name": "Python 3 (ipykernel)",
   "language": "python",
   "name": "python3"
  },
  "language_info": {
   "codemirror_mode": {
    "name": "ipython",
    "version": 3
   },
   "file_extension": ".py",
   "mimetype": "text/x-python",
   "name": "python",
   "nbconvert_exporter": "python",
   "pygments_lexer": "ipython3",
   "version": "3.11.7"
  }
 },
 "nbformat": 4,
 "nbformat_minor": 5
}
